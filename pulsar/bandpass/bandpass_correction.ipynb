{
 "cells": [
  {
   "cell_type": "markdown",
   "metadata": {},
   "source": [
    "initial setup"
   ]
  },
  {
   "cell_type": "code",
   "execution_count": null,
   "metadata": {},
   "outputs": [],
   "source": [
    "%matplotlib inline\n",
    "import psrchive as psr\n",
    "import matplotlib.pyplot as plt\n",
    "import numpy as np"
   ]
  },
  {
   "cell_type": "markdown",
   "metadata": {},
   "source": [
    "Load the archive and scrunch it in polarisation and time domains"
   ]
  },
  {
   "cell_type": "code",
   "execution_count": null,
   "metadata": {},
   "outputs": [],
   "source": [
    "ar = psr.Archive_load(\"total.ZZc\")\n",
    "ar.pscrunch()\n",
    "ar.tscrunch()"
   ]
  },
  {
   "cell_type": "markdown",
   "metadata": {},
   "source": [
    "Get the data and estimate the baseline as a function of frequency. Get rid of the dimensions which have already been scrunched. "
   ]
  },
  {
   "cell_type": "code",
   "execution_count": null,
   "metadata": {},
   "outputs": [],
   "source": [
    "subint = ar.get_Integration(0)\n",
    "(bl_mean, bl_var) = subint.baseline_stats()\n",
    "bl_mean = bl_mean.squeeze()\n",
    "bl_var = bl_var.squeeze()\n",
    "non_zeroes = np.where(bl_mean != 0.0)"
   ]
  },
  {
   "cell_type": "markdown",
   "metadata": {},
   "source": [
    "Get the frequencies from the archive. Not terribly efficient, is there a better way to do this?"
   ]
  },
  {
   "cell_type": "code",
   "execution_count": null,
   "metadata": {},
   "outputs": [],
   "source": [
    "min_freq = ar.get_Profile(0, 0, 0).get_centre_frequency()\n",
    "max_freq = ar.get_Profile(0, 0, ar.get_nchan()-1).get_centre_frequency()"
   ]
  },
  {
   "cell_type": "markdown",
   "metadata": {},
   "source": [
    "Associate the baseline stats with the corresponding RF. \n",
    "\n",
    "Plot the bandpass estimate."
   ]
  },
  {
   "cell_type": "code",
   "execution_count": null,
   "metadata": {},
   "outputs": [],
   "source": [
    "freqs = np.linspace(min_freq, max_freq, ar.get_nchan())\n",
    "fig1 = plt.plot(freqs[non_zeroes],bl_mean[non_zeroes])\n",
    "xlab = plt.xlabel('frequency [MHz]')\n",
    "ylab = plt.ylabel('power [arbitrary]')\n",
    "title = plt.title(\"Bandpass estimate\")"
   ]
  },
  {
   "cell_type": "markdown",
   "metadata": {},
   "source": [
    "Get data and use the peak value as an estimate of flux. For this pulsar (J1509+5531) this should work OK. Note that we haven't removed the baseline yet so this is only a test really."
   ]
  },
  {
   "cell_type": "code",
   "execution_count": null,
   "metadata": {},
   "outputs": [],
   "source": [
    "data =ar.get_data()\n",
    "data = data.squeeze()\n",
    "peak_value = np.amax(data, axis=1)\n",
    "peak_value_line, = plt.plot(freqs[non_zeroes],peak_value[non_zeroes], label=\"Uncorrected flux estimate\")\n",
    "peak_values_corrected = peak_value[non_zeroes] / bl_mean[non_zeroes] * np.average(bl_mean[non_zeroes])\n",
    "peak_value_corrected_line, = plt.plot(freqs[non_zeroes],peak_values_corrected, label=\"Corrected flux estimate\")\n",
    "xlab = plt.xlabel('frequency [MHz]')\n",
    "ylab = plt.ylabel('peak flux [arbitrary]')\n",
    "title = plt.title(\"original / corrected flux estimate\")\n",
    "legend = plt.legend(handles=[peak_value_line, peak_value_corrected_line])"
   ]
  },
  {
   "cell_type": "markdown",
   "metadata": {},
   "source": [
    "Now repeat the process for data after baseline removal, which is what is ultimately of interest. Essentially the same as above otherwise.\n",
    "\n",
    "We start by preparing the data and getting the estimators:"
   ]
  },
  {
   "cell_type": "code",
   "execution_count": null,
   "metadata": {},
   "outputs": [],
   "source": [
    "ar.remove_baseline()\n",
    "data_br = ar.get_data()\n",
    "data_br = data_br.squeeze()\n",
    "peak_value_br = np.amax(data_br, axis=1)\n",
    "peak_value_br_corrected = peak_value_br[non_zeroes] / bl_mean[non_zeroes] * np.average(bl_mean[non_zeroes])"
   ]
  },
  {
   "cell_type": "markdown",
   "metadata": {},
   "source": [
    "And now plot them:"
   ]
  },
  {
   "cell_type": "code",
   "execution_count": null,
   "metadata": {},
   "outputs": [],
   "source": [
    "peak_value_line, = plt.plot(freqs[non_zeroes], peak_values_corrected / np.average(bl_mean), label=\"Corrected pre-baseline removal\")\n",
    "peak_value_br_line, = plt.plot(freqs[non_zeroes], peak_value_br[non_zeroes], label=\"Uncorrected, baseline removed\")\n",
    "peak_value_br_corrected_line, = plt.plot(freqs[non_zeroes], peak_value_br_corrected, label=\"Corrected, baseline removed\")\n",
    "xlab = plt.xlabel('frequency [MHz]')\n",
    "ylab = plt.ylabel('peak flux [arbitrary]')\n",
    "title = plt.title('original / corrected flux estimate, post baseline removal')\n",
    "legend = plt.legend(handles=[peak_value_line, peak_value_br_line, peak_value_br_corrected_line])"
   ]
  },
  {
   "cell_type": "markdown",
   "metadata": {},
   "source": [
    "A fair portion of hte bandpass now looks pretty nice. Let's try to measure the spectral index from the part of the bandpass which looks good. At the moment that part is chosen by eye"
   ]
  },
  {
   "cell_type": "code",
   "execution_count": null,
   "metadata": {},
   "outputs": [],
   "source": [
    "first=141\n",
    "last=363\n",
    "fit=np.polyfit(np.log10((freqs[non_zeroes])[first:last]), np.log10(peak_value_br_corrected[first:last]), 1)\n",
    "peak_value_br_corrected_line, = plt.plot(freqs[non_zeroes], peak_value_br_corrected, label='Final corrected flux estimate')\n",
    "peak_value_fit_line, = plt.plot(freqs[non_zeroes], np.power(10., np.log10(freqs[non_zeroes])*fit[0] + fit[1]), linewidth=3, label='Power law fit')\n",
    "xlab = plt.xlabel('frequency [MHz]')\n",
    "ylab = plt.ylabel('log (peak flux [arbitrary])')\n",
    "fig4 = plt.text(freqs[ar.get_nchan()*1.67/5.], np.amax(peak_value_br_corrected) * 0.8,\n",
    "                \"spectral index: \"+str(int(fit[0]*100)/100.))\n",
    "title = plt.title(\"Final flux estimate and a power law fit\")\n",
    "legend = plt.legend(handles=[peak_value_br_corrected_line, peak_value_fit_line])"
   ]
  }
 ],
 "metadata": {
  "kernelspec": {
   "display_name": "Python 2",
   "language": "python",
   "name": "python2"
  },
  "language_info": {
   "codemirror_mode": {
    "name": "ipython",
    "version": 2
   },
   "file_extension": ".py",
   "mimetype": "text/x-python",
   "name": "python",
   "nbconvert_exporter": "python",
   "pygments_lexer": "ipython2"
  }
 },
 "nbformat": 4,
 "nbformat_minor": 0
}
